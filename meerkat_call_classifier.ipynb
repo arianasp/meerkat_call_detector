{
 "cells": [
  {
   "cell_type": "markdown",
   "metadata": {},
   "source": [
    "# **Meerkat Call Classifier**\n",
    "\n",
    "This code takes in examples of calls of different types, trains a conv net model to detect which type, then can run this on new data."
   ]
  },
  {
   "cell_type": "code",
   "execution_count": 2,
   "metadata": {},
   "outputs": [
    {
     "name": "stdout",
     "output_type": "stream",
     "text": [
      "Epoch 1/20\n"
     ]
    },
    {
     "name": "stderr",
     "output_type": "stream",
     "text": [
      "/home/arianasp/anaconda3/lib/python3.6/site-packages/keras/engine/training_generator.py:47: UserWarning: Using a generator with `use_multiprocessing=True` and multiple workers may duplicate your data. Please consider using the`keras.utils.Sequence class.\n",
      "  UserWarning('Using a generator with `use_multiprocessing=True`'\n"
     ]
    },
    {
     "name": "stdout",
     "output_type": "stream",
     "text": [
      "10000/10000 [==============================] - 120s 12ms/step - loss: 1.2232 - sparse_categorical_accuracy: 0.5041\n",
      "Epoch 2/20\n",
      "10000/10000 [==============================] - 118s 12ms/step - loss: 1.0159 - sparse_categorical_accuracy: 0.5920\n",
      "Epoch 3/20\n",
      "10000/10000 [==============================] - 118s 12ms/step - loss: 0.9445 - sparse_categorical_accuracy: 0.6285\n",
      "Epoch 4/20\n",
      "10000/10000 [==============================] - 119s 12ms/step - loss: 0.8476 - sparse_categorical_accuracy: 0.6640\n",
      "Epoch 5/20\n",
      "10000/10000 [==============================] - 119s 12ms/step - loss: 0.8258 - sparse_categorical_accuracy: 0.6750\n",
      "Epoch 6/20\n",
      "10000/10000 [==============================] - 119s 12ms/step - loss: 0.8155 - sparse_categorical_accuracy: 0.6821\n",
      "Epoch 7/20\n",
      "10000/10000 [==============================] - 119s 12ms/step - loss: 0.7854 - sparse_categorical_accuracy: 0.6972\n",
      "Epoch 8/20\n",
      "10000/10000 [==============================] - 119s 12ms/step - loss: 0.7792 - sparse_categorical_accuracy: 0.6961\n",
      "Epoch 9/20\n",
      "10000/10000 [==============================] - 119s 12ms/step - loss: 0.7345 - sparse_categorical_accuracy: 0.7207\n",
      "Epoch 10/20\n",
      "10000/10000 [==============================] - 120s 12ms/step - loss: 0.6966 - sparse_categorical_accuracy: 0.7311\n",
      "Epoch 11/20\n",
      "10000/10000 [==============================] - 120s 12ms/step - loss: 0.6404 - sparse_categorical_accuracy: 0.7576\n",
      "Epoch 12/20\n",
      "10000/10000 [==============================] - 118s 12ms/step - loss: 0.5300 - sparse_categorical_accuracy: 0.7971\n",
      "Epoch 13/20\n",
      "10000/10000 [==============================] - 117s 12ms/step - loss: 0.5121 - sparse_categorical_accuracy: 0.8112\n",
      "Epoch 14/20\n",
      "10000/10000 [==============================] - 115s 12ms/step - loss: 0.4586 - sparse_categorical_accuracy: 0.8288\n",
      "Epoch 15/20\n",
      "10000/10000 [==============================] - 115s 12ms/step - loss: 0.4136 - sparse_categorical_accuracy: 0.8482\n",
      "Epoch 16/20\n",
      "10000/10000 [==============================] - 115s 12ms/step - loss: 0.3386 - sparse_categorical_accuracy: 0.8758\n",
      "Epoch 17/20\n",
      "10000/10000 [==============================] - 116s 12ms/step - loss: 0.3002 - sparse_categorical_accuracy: 0.8945\n",
      "Epoch 18/20\n",
      "10000/10000 [==============================] - 117s 12ms/step - loss: 0.2649 - sparse_categorical_accuracy: 0.9085\n",
      "Epoch 19/20\n",
      "10000/10000 [==============================] - 117s 12ms/step - loss: 0.2320 - sparse_categorical_accuracy: 0.9197\n",
      "Epoch 20/20\n",
      "10000/10000 [==============================] - 117s 12ms/step - loss: 0.1950 - sparse_categorical_accuracy: 0.9331\n",
      "Saving model as: classifier_7types_20epochs.h5\n",
      "generating data for 13 files\n",
      "0\n",
      "/home/arianasp/meerkat_detector/ground_truth/HM_HRT_R09_AUDIO_file_4_(2017_08_23-06_44_59)_ASWMUX221110_LABEL_RY.csv\n",
      "/home/arianasp/meerkat_detector/data/full_recordings/HM_HRT_R09_AUDIO_file_4_(2017_08_23-06_44_59)_ASWMUX221110_LABEL_RY.wav\n",
      "generating spectrograms for testing\n",
      "1\n",
      "/home/arianasp/meerkat_detector/ground_truth/HM_RT_R10_20170903-20170908_file_2_(2017_09_03-05_44_59)_ASWMUX221102_SS.csv\n",
      "/home/arianasp/meerkat_detector/data/full_recordings/HM_RT_R10_20170903-20170908_file_2_(2017_09_03-05_44_59)_ASWMUX221102_SS.wav\n",
      "generating spectrograms for testing\n",
      "2\n",
      "/home/arianasp/meerkat_detector/ground_truth/HM_HTB_R14_file_4_(2017_08_23-06_44_59)_ASWMUX221052._labelSS.csv\n",
      "/home/arianasp/meerkat_detector/data/full_recordings/HM_HTB_R14_file_4_(2017_08_23-06_44_59)_ASWMUX221052._labelSS.wav\n",
      "generating spectrograms for testing\n",
      "3\n",
      "/home/arianasp/meerkat_detector/ground_truth/HM_HRT_R07_20170903-20170908_file_2_(2017_09_03-05_44_59)_ASWMUX221092_LABEL_RY.csv\n",
      "/home/arianasp/meerkat_detector/data/full_recordings/HM_HRT_R07_20170903-20170908_file_2_(2017_09_03-05_44_59)_ASWMUX221092_LABEL_RY.wav\n",
      "generating spectrograms for testing\n",
      "4\n",
      "/home/arianasp/meerkat_detector/ground_truth/HM_PET_R11_20170903-20170908_file_2_(2017_09_03-05_44_59)_ASWMUX221163_SS.csv\n",
      "/home/arianasp/meerkat_detector/data/full_recordings/HM_PET_R11_20170903-20170908_file_2_(2017_09_03-05_44_59)_ASWMUX221163_SS.wav\n",
      "generating spectrograms for testing\n",
      "5\n",
      "/home/arianasp/meerkat_detector/ground_truth/HM_RT_R12_file_4_(2017_08_23-06_44_59)_ASWMUX221102_labelSS.csv\n",
      "/home/arianasp/meerkat_detector/data/full_recordings/HM_RT_R12_file_4_(2017_08_23-06_44_59)_ASWMUX221102_labelSS.wav\n",
      "generating spectrograms for testing\n",
      "6\n",
      "/home/arianasp/meerkat_detector/ground_truth/HM_LT_R07_AUDIO_file_4_(2017_08_23-06_44_59)_ASWMUX221092_LABEL_RY.csv\n",
      "/home/arianasp/meerkat_detector/data/full_recordings/HM_LT_R07_AUDIO_file_4_(2017_08_23-06_44_59)_ASWMUX221092_LABEL_RY.wav\n",
      "generating spectrograms for testing\n",
      "7\n",
      "/home/arianasp/meerkat_detector/ground_truth/HM_LT_R07_AUDIO_file_5_(2017_08_24-06_44_59)_ASWMUX221092_SS.csv\n",
      "/home/arianasp/meerkat_detector/data/full_recordings/HM_LT_R07_AUDIO_file_5_(2017_08_24-06_44_59)_ASWMUX221092_SS.wav\n",
      "generating spectrograms for testing\n",
      "8\n",
      "/home/arianasp/meerkat_detector/ground_truth/HM_RT_R12_file_5_(2017_08_24-06_44_59)_ASWMUX221102_LABEL_RY.csv\n",
      "/home/arianasp/meerkat_detector/data/full_recordings/HM_RT_R12_file_5_(2017_08_24-06_44_59)_ASWMUX221102_LABEL_RY.wav\n",
      "generating spectrograms for testing\n",
      "9\n",
      "/home/arianasp/meerkat_detector/ground_truth/HM_LT_R09_20170903-20170908_file_2_(2017_09_03-05_44_59)_ASWMUX221110_LABEL_RY.csv\n",
      "/home/arianasp/meerkat_detector/data/full_recordings/HM_LT_R09_20170903-20170908_file_2_(2017_09_03-05_44_59)_ASWMUX221110_LABEL_RY.wav\n",
      "generating spectrograms for testing\n",
      "10\n",
      "/home/arianasp/meerkat_detector/ground_truth/HM_VHMM002_HRT_AUDIO_R09_file_6_(2017_08_07-06_44_59)_ASWMUX221110_labelASP.csv\n",
      "/home/arianasp/meerkat_detector/data/full_recordings/HM_VHMM002_HRT_AUDIO_R09_file_6_(2017_08_07-06_44_59)_ASWMUX221110_labelASP.wav\n",
      "generating spectrograms for testing\n",
      "11\n",
      "/home/arianasp/meerkat_detector/ground_truth/HM_HRT_R09_AUDIO_file_5_(2017_08_24-06_44_59)_ASWMUX221110_SS.csv\n",
      "/home/arianasp/meerkat_detector/data/full_recordings/HM_HRT_R09_AUDIO_file_5_(2017_08_24-06_44_59)_ASWMUX221110_SS.wav\n",
      "generating spectrograms for testing\n",
      "12\n",
      "/home/arianasp/meerkat_detector/ground_truth/HM_HTB_R14_file_5_(2017_08_24-06_44_59)_ASWMUX221052_LABEL_RY.csv\n",
      "/home/arianasp/meerkat_detector/data/full_recordings/HM_HTB_R14_file_5_(2017_08_24-06_44_59)_ASWMUX221052_LABEL_RY.wav\n",
      "generating spectrograms for testing\n"
     ]
    },
    {
     "ename": "TypeError",
     "evalue": "evaluate_classif() got an unexpected keyword argument 'normalize_by_reals'",
     "output_type": "error",
     "traceback": [
      "\u001b[0;31m---------------------------------------------------------------------------\u001b[0m",
      "\u001b[0;31mTypeError\u001b[0m                                 Traceback (most recent call last)",
      "\u001b[0;32m<ipython-input-2-29fcacc1eb5a>\u001b[0m in \u001b[0;36m<module>\u001b[0;34m\u001b[0m\n\u001b[1;32m     86\u001b[0m             \u001b[0mprint\u001b[0m\u001b[0;34m(\u001b[0m\u001b[0;34m'file not found: '\u001b[0m \u001b[0;34m+\u001b[0m \u001b[0mwav_path\u001b[0m\u001b[0;34m)\u001b[0m\u001b[0;34m\u001b[0m\u001b[0m\n\u001b[1;32m     87\u001b[0m \u001b[0;34m\u001b[0m\u001b[0m\n\u001b[0;32m---> 88\u001b[0;31m     \u001b[0mconfusion\u001b[0m \u001b[0;34m=\u001b[0m \u001b[0mevaluate_classif\u001b[0m\u001b[0;34m(\u001b[0m\u001b[0mmodel\u001b[0m\u001b[0;34m,\u001b[0m\u001b[0mXall\u001b[0m\u001b[0;34m,\u001b[0m\u001b[0myall\u001b[0m\u001b[0;34m,\u001b[0m\u001b[0mcall_types\u001b[0m\u001b[0;34m,\u001b[0m\u001b[0mnormalize_by_reals\u001b[0m\u001b[0;34m=\u001b[0m\u001b[0;32mTrue\u001b[0m\u001b[0;34m,\u001b[0m\u001b[0mlogscale\u001b[0m\u001b[0;34m=\u001b[0m\u001b[0;32mTrue\u001b[0m\u001b[0;34m)\u001b[0m\u001b[0;34m\u001b[0m\u001b[0m\n\u001b[0m\u001b[1;32m     89\u001b[0m \u001b[0;34m\u001b[0m\u001b[0m\n\u001b[1;32m     90\u001b[0m     \u001b[0mplot_confusion_matrix\u001b[0m\u001b[0;34m(\u001b[0m\u001b[0mconfusion\u001b[0m\u001b[0;34m,\u001b[0m\u001b[0mcall_types\u001b[0m\u001b[0;34m)\u001b[0m\u001b[0;34m\u001b[0m\u001b[0m\n",
      "\u001b[0;31mTypeError\u001b[0m: evaluate_classif() got an unexpected keyword argument 'normalize_by_reals'"
     ]
    }
   ],
   "source": [
    "from meerkat_call_detector_library import *\n",
    "import os\n",
    "import re\n",
    "\n",
    "#params\n",
    "train_classif_model = True\n",
    "test_classif_model = False\n",
    "batch_size=10\n",
    "clips_dir  = '/home/arianasp/meerkat_detector/clips' #'/home/arianasp/meerkat_detector/clips' only has clips from ari labeled files\n",
    "call_types = ['cc','sn','ld','mov','agg','alarm','soc','hyb','unk','oth']\n",
    "verbose = True\n",
    "model_dir = '/home/arianasp/meerkat_detector/models'\n",
    "classif_model_name = 'classifier_7types_20epochs.h5'\n",
    "epochs = 20\n",
    "steps_per_epoch = 10000\n",
    "max_size = 512\n",
    "\n",
    "#test files\n",
    "test_wav = '/home/arianasp/meerkat_detector/data/full_recordings/HM_PET_R11_20170903-20170908_file_2_(2017_09_03-05_44_59)_ASWMUX221163_SS.wav'\n",
    "test_csv = '/home/arianasp/meerkat_detector/ground_truth/HM_PET_R11_20170903-20170908_file_2_(2017_09_03-05_44_59)_ASWMUX221163_SS.csv'\n",
    "\n",
    "#PARAMS (don't change probably)\n",
    "pad_len = 127\n",
    "samprate = 8000\n",
    "win_len = 4096\n",
    "\n",
    "ground_truth_dir = '/home/arianasp/meerkat_detector/ground_truth'\n",
    "wav_dir = '/home/arianasp/meerkat_detector/data/full_recordings'\n",
    "\n",
    "\n",
    "#MAIN\n",
    "\n",
    "#----------TRAIN OR LOAD MODEL -----------------------\n",
    "if(train_classif_model):\n",
    "    \n",
    "    model = classifier_model(n_classes=10)\n",
    "\n",
    "\n",
    "    # use categorical_crossentropy loss if your training data are one-hot encoded vectors\n",
    "    # and use sparse_categorical_crossentropy loss if your training data\n",
    "    # are integers indicating the class label (Keras one-hot encodes this internally for training)\n",
    "    model.compile(loss='sparse_categorical_crossentropy',\n",
    "                  optimizer='adam',\n",
    "                  metrics=['sparse_categorical_accuracy']) # same applies for sparse_categorical_accuracy\n",
    "\n",
    "\n",
    "\n",
    "        \n",
    "    #fit model\n",
    "    model.fit_generator(data_generator_for_classif(clips_dir = clips_dir,batch_size = batch_size), epochs=epochs, use_multiprocessing=True, workers=16, steps_per_epoch=steps_per_epoch)\n",
    "\n",
    "    #Save fitted model\n",
    "    print('Saving model as: ' + classif_model_name)\n",
    "    model.save(filepath=model_dir + '/' + classif_model_name) \n",
    "\n",
    "else:\n",
    "    model = load_model(model_dir + '/' + classif_model_name)\n",
    "    \n",
    "# ------------- TEST MODEL -----------------------------\n",
    "\n",
    "if(test_classif_model):\n",
    "    files = os.listdir(ground_truth_dir)\n",
    "    test_csvs = [file for file in files if not(re.search('_label.csv',file) or re.search('_label.CSV',file) or re.search('SOUNDFOC',file))]\n",
    "    basenames = [os.path.splitext(file)[0] for file in test_csvs]\n",
    "    test_wavs = [file + '.wav' for file in basenames]\n",
    "\n",
    "    Xall = np.empty([0,512,128,1])\n",
    "    yall = np.empty([0],dtype='int')\n",
    "    print('generating data for ' + str(len(test_csvs)) + ' files')\n",
    "    for i in range(len(test_csvs)):\n",
    "        test_csv = test_csvs[i]\n",
    "        test_wav = os.path.splitext(test_csv)[0] + '.wav'\n",
    "        test_csv = ground_truth_dir + '/' + test_csvs[i]\n",
    "        wav_path = wav_dir + '/' + test_wav\n",
    "\n",
    "        print(i)\n",
    "        print(test_csv)\n",
    "        print(wav_path)\n",
    "\n",
    "        if(os.path.exists(wav_path)):\n",
    "            labels = read_labels_for_classif(test_csv)\n",
    "            X, y = generate_test_data_for_classif(labels,wav_path)\n",
    "            Xall = np.append(Xall,X,axis=0)\n",
    "            yall = np.append(yall,y,axis=0)\n",
    "        else:\n",
    "            print('file not found: ' + wav_path)\n",
    "\n",
    "    confusion = evaluate_classif(model,Xall,yall,call_types)\n",
    "\n",
    "    plot_confusion_matrix(confusion,call_types)"
   ]
  },
  {
   "cell_type": "code",
   "execution_count": 5,
   "metadata": {},
   "outputs": [
    {
     "name": "stderr",
     "output_type": "stream",
     "text": [
      "/home/arianasp/anaconda3/lib/python3.6/site-packages/ipykernel_launcher.py:15: RuntimeWarning: divide by zero encountered in log\n",
      "  from ipykernel import kernelapp as app\n"
     ]
    },
    {
     "data": {
      "image/png": "[encoded data removed]",
      "text/plain": [
       "<Figure size 432x288 with 1 Axes>"
      ]
     },
     "execution_count": 5,
     "metadata": {},
     "output_type": "execute_result"
    },
    {
     "data": {
      "image/png": "[encoded data removed]",
      "text/plain": [
       "<Figure size 432x288 with 1 Axes>"
      ]
     },
     "metadata": {
      "needs_background": "light"
     },
     "output_type": "display_data"
    }
   ],
   "source": [
    "from sklearn.preprocessing import normalize\n",
    "\n",
    "def plot_confusion_matrix(confusion,call_types,logscale=True,normalize_by_reals = True, normalize_by_preds = False):\n",
    "    fig = plt.figure()\n",
    "    plt.xticks(np.arange(start=0,stop=len(call_types)),call_types,rotation='vertical')\n",
    "    plt.yticks(np.arange(start=0,stop=len(call_types)),call_types)\n",
    "    plt.ylabel('real')\n",
    "    plt.xlabel('predicted')\n",
    "    to_plot = confusion\n",
    "    if(normalize_by_reals):\n",
    "        to_plot = normalize(confusion,axis=1,norm='l1')\n",
    "    elif(normalize_by_preds):\n",
    "        to_plot = normalize(confusion,axis=0,norm='l1')\n",
    "    if(logscale):\n",
    "        plt.imshow(np.log(to_plot))\n",
    "    else:\n",
    "        plt.imshow(to_plot)\n",
    "    for i in range(confusion.shape[0]):\n",
    "        for j in range(confusion.shape[1]):\n",
    "            plt.annotate(text = str(int(confusion[i,j])), xy=(j, i), ha='center',va='center',color='red')\n",
    "    return(fig)\n",
    "\n",
    "confusion = evaluate_classif(model,Xall,yall,call_types)\n",
    "\n",
    "plot_confusion_matrix(confusion,call_types,normalize_by_reals=True,normalize_by_preds=False)"
   ]
  },
  {
   "cell_type": "code",
   "execution_count": 4,
   "metadata": {},
   "outputs": [
    {
     "ename": "TypeError",
     "evalue": "evaluate_classif() got an unexpected keyword argument 'normalize_by_reals'",
     "output_type": "error",
     "traceback": [
      "\u001b[0;31m---------------------------------------------------------------------------\u001b[0m",
      "\u001b[0;31mTypeError\u001b[0m                                 Traceback (most recent call last)",
      "\u001b[0;32m<ipython-input-4-5b50dc7ebf82>\u001b[0m in \u001b[0;36m<module>\u001b[0;34m\u001b[0m\n\u001b[0;32m----> 1\u001b[0;31m \u001b[0mconfusion\u001b[0m \u001b[0;34m=\u001b[0m \u001b[0mevaluate_classif\u001b[0m\u001b[0;34m(\u001b[0m\u001b[0mmodel\u001b[0m\u001b[0;34m,\u001b[0m\u001b[0mXall\u001b[0m\u001b[0;34m,\u001b[0m\u001b[0myall\u001b[0m\u001b[0;34m,\u001b[0m\u001b[0mcall_types\u001b[0m\u001b[0;34m,\u001b[0m\u001b[0mnormalize_by_reals\u001b[0m\u001b[0;34m=\u001b[0m\u001b[0;32mTrue\u001b[0m\u001b[0;34m,\u001b[0m\u001b[0mnormalize_by_preds\u001b[0m\u001b[0;34m=\u001b[0m\u001b[0;32mFalse\u001b[0m\u001b[0;34m)\u001b[0m\u001b[0;34m\u001b[0m\u001b[0m\n\u001b[0m\u001b[1;32m      2\u001b[0m \u001b[0;34m\u001b[0m\u001b[0m\n\u001b[1;32m      3\u001b[0m \u001b[0mplot_confusion_matrix\u001b[0m\u001b[0;34m(\u001b[0m\u001b[0mconfusion\u001b[0m\u001b[0;34m,\u001b[0m\u001b[0mcall_types\u001b[0m\u001b[0;34m)\u001b[0m\u001b[0;34m\u001b[0m\u001b[0m\n",
      "\u001b[0;31mTypeError\u001b[0m: evaluate_classif() got an unexpected keyword argument 'normalize_by_reals'"
     ]
    }
   ],
   "source": [
    "confusion = evaluate_classif(model,Xall,yall,call_types,normalize_by_reals=True,normalize_by_preds=False)\n",
    "\n",
    "plot_confusion_matrix(confusion,call_types)\n"
   ]
  },
  {
   "cell_type": "code",
   "execution_count": null,
   "metadata": {},
   "outputs": [],
   "source": [
    "#Take a look at the mistakes\n",
    "out = model.predict(Xall)\n",
    "preds = np.zeros(out.shape[0],dtype='int')\n",
    "for i in range(out.shape[0]):\n",
    "    preds[i] = int(np.argmax(out[i,:]))\n",
    "    \n",
    "matches = np.where(preds == yall)[0]\n",
    "mismatches = np.where((preds != yall))[0]"
   ]
  },
  {
   "cell_type": "code",
   "execution_count": null,
   "metadata": {},
   "outputs": [],
   "source": [
    "#Make plots of the mistakes\n",
    "\n",
    "for i in range(len(mismatches)):\n",
    "    idx = mismatches[i]\n",
    "\n",
    "    X0 = Xall[idx,:,:,0]\n",
    "    pred = call_types[preds[idx]]\n",
    "    real = call_types[yall[idx]]\n",
    "\n",
    "    plt.imshow(X0.T,aspect='auto',origin='lower')\n",
    "    plt.title('Predicted: ' + pred + ' / Real: ' + real)\n",
    "    print('Predicted: ' + pred)\n",
    "    print('Real: ' + real)\n",
    "    plt.savefig('/home/arianasp/meerkat_detector/figures/classif_mistakes/mistake' + str(idx) + '_pred_' + pred + '_real_' + real + '.pdf')\n",
    "    \n"
   ]
  },
  {
   "cell_type": "code",
   "execution_count": null,
   "metadata": {},
   "outputs": [],
   "source": [
    "print(Xall.shape)\n",
    "print(yall.shape)\n",
    "print(preds.shape)"
   ]
  },
  {
   "cell_type": "code",
   "execution_count": null,
   "metadata": {},
   "outputs": [],
   "source": []
  }
 ],
 "metadata": {
  "kernelspec": {
   "display_name": "Python 3",
   "language": "python",
   "name": "python3"
  },
  "language_info": {
   "codemirror_mode": {
    "name": "ipython",
    "version": 3
   },
   "file_extension": ".py",
   "mimetype": "text/x-python",
   "name": "python",
   "nbconvert_exporter": "python",
   "pygments_lexer": "ipython3",
   "version": "3.6.6"
  }
 },
 "nbformat": 4,
 "nbformat_minor": 2
}
