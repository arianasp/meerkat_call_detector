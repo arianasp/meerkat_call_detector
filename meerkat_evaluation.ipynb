{
 "cells": [
  {
   "cell_type": "markdown",
   "metadata": {
    "colab_type": "text",
    "id": "1eeO7Xg8kl2i"
   },
   "source": [
    "# Evaluation of detections\n",
    "\n",
    "This notebook is used for the evaluation of prediction results. The code is currently very slow and needs to be sped up."
   ]
  },
  {
   "cell_type": "code",
   "execution_count": 1,
   "metadata": {
    "colab": {
     "base_uri": "https://localhost:8080/",
     "height": 2278
    },
    "colab_type": "code",
    "executionInfo": {
     "elapsed": 542620,
     "status": "ok",
     "timestamp": 1541803593277,
     "user": {
      "displayName": "Ari Strandburg-Peshkin",
      "photoUrl": "https://lh5.googleusercontent.com/-MKu9PgtZ8GY/AAAAAAAAAAI/AAAAAAAAkls/jO6ibSAkcsA/s64/photo.jpg",
      "userId": "16668338863996685255"
     },
     "user_tz": 300
    },
    "id": "wh-oXG5DnEj_",
    "outputId": "0c30c753-8121-45d6-fd31-c8a226b7a912",
    "scrolled": true
   },
   "outputs": [
    {
     "name": "stderr",
     "output_type": "stream",
     "text": [
      "Using TensorFlow backend.\n"
     ]
    },
    {
     "name": "stdout",
     "output_type": "stream",
     "text": [
      "/home/arianasp/meerkat_detector/eval/HM_HRT_R09_AUDIO_file_4_(2017_08_23-06_44_59)_ASWMUX221110_LABEL_RY_label_cnn_10epoch_1_0_0_0_0_0_0_0_0_0_noaug20181114_1-12600.0_eval.pckl\n",
      "Running evaluation for file: /home/arianasp/meerkat_detector/predictions/HM_HRT_R09_AUDIO_file_4_(2017_08_23-06_44_59)_ASWMUX221110_LABEL_RY_label_cnn_10epoch_1_0_0_0_0_0_0_0_0_0_noaug20181114_1-12600.0.pckl\n",
      "Evaluation completed and saved at /home/arianasp/meerkat_detector/eval/HM_HRT_R09_AUDIO_file_4_(2017_08_23-06_44_59)_ASWMUX221110_LABEL_RY_label_cnn_10epoch_1_0_0_0_0_0_0_0_0_0_noaug20181114_1-12600.0_eval.pckl\n"
     ]
    }
   ],
   "source": [
    "#PARAMETERS\n",
    "\n",
    "#Libraries and dependencies\n",
    "import pickle\n",
    "import re\n",
    "import sys\n",
    "\n",
    "#PARAMS\n",
    "\n",
    "#directories\n",
    "base_dir = '/home/arianasp/meerkat_detector'\n",
    "ground_truth_dir = base_dir + '/ground_truth'\n",
    "save_dir = base_dir + '/eval'\n",
    "\n",
    "#thresh range\n",
    "boundary_thresh = 0.6\n",
    "n_points = 30\n",
    "\n",
    "#List of call types to include\n",
    "call_types = ['cc','sn','ld','mov','agg','alarm','soc','hyb','unk','oth']\n",
    "\n",
    "#MAIN\n",
    "#add dev to path\n",
    "sys.path.append('/home/arianasp/meerkat_detector/dev')\n",
    "\n",
    "#Import call detector library\n",
    "from meerkat_call_detector_library import *\n",
    "\n",
    "#Go to predictions directory and list all pckl files\n",
    "os.chdir(base_dir + '/predictions')\n",
    "#pckl_files = glob.glob('./*.pckl')\n",
    "pckl_files = ['HM_HRT_R09_AUDIO_file_4_(2017_08_23-06_44_59)_ASWMUX221110_LABEL_RY_label_cnn_10epoch_1_0_0_0_0_0_0_0_0_0_noaug20181114_1-12600.0.pckl']\n",
    "\n",
    "#create threshold range\n",
    "thresh_range = np.linspace(boundary_thresh+.0001,.9,10)\n",
    "\n",
    "for i in range(2,n_points-9):\n",
    "    thresh_range = np.append(thresh_range,thresh_range[len(thresh_range)-1]+10**(-i)*9)\n",
    "    \n",
    "#for file_idx in range(len(pckl_files)):\n",
    "for file_idx in range(len(pckl_files)):\n",
    "    \n",
    "    pckl_file = pckl_files[file_idx]\n",
    "    pckl_path = base_dir + '/predictions/' + pckl_file\n",
    "    \n",
    "    run_evaluation(pckl_path = pckl_path,thresh_range=thresh_range,save_dir =save_dir,ground_truth_dir = ground_truth_dir,call_types = call_types, verbose = False)\n",
    "    "
   ]
  }
 ],
 "metadata": {
  "colab": {
   "collapsed_sections": [],
   "name": "meerkat_evaluation.ipynb",
   "provenance": [],
   "version": "0.3.2"
  },
  "kernelspec": {
   "display_name": "Python 3",
   "language": "python",
   "name": "python3"
  },
  "language_info": {
   "codemirror_mode": {
    "name": "ipython",
    "version": 3
   },
   "file_extension": ".py",
   "mimetype": "text/x-python",
   "name": "python",
   "nbconvert_exporter": "python",
   "pygments_lexer": "ipython3",
   "version": "3.6.6"
  }
 },
 "nbformat": 4,
 "nbformat_minor": 1
}
