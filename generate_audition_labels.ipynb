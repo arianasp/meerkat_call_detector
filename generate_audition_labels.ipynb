{
 "cells": [
  {
   "cell_type": "code",
   "execution_count": null,
   "metadata": {},
   "outputs": [],
   "source": [
    "#Generate labels for audition (old version, no classification)\n",
    "\n",
    "#Thresh chosen to make sure all cc recalls are > 0.9 (except for the 2 HMB files), also other calls look decent at this level\n",
    "thresh = 0.99\n",
    "boundary_thresh = 0.6\n",
    "pred_dir = '/home/arianasp/meerkat_detector/predictions/megan_test_set_trainall'\n",
    "out_dir = '/home/arianasp/meerkat_detector/autolabel/megan_test_set_trainall_labels'\n",
    "model ='cnn_10epoch__focalmeg__orig_proportional_noaug_2dconv_20190306'\n",
    "\n",
    "import sys\n",
    "import os\n",
    "import re\n",
    "import pickle\n",
    "\n",
    "sys.path.append('/home/arianasp/meerkat_detector/dev')\n",
    "\n",
    "#from meerkat_call_detector_library import *\n",
    "\n",
    "files = os.listdir(pred_dir)\n",
    "files_to_seg = []\n",
    "for i in range(len(files)):\n",
    "    file = files[i]\n",
    "    if re.search('.pckl',file) and re.search(model,file):\n",
    "        files_to_seg.append(file)\n",
    "\n",
    "for i in range(len(files_to_seg)):\n",
    "    print(i)\n",
    "    f = open(pred_dir + '/' + files_to_seg[i],'rb')\n",
    "    results = pickle.load(f,encoding='latin1')\n",
    "    calls = segment_calls(boundary_thresh = 0.6,min_thresh = thresh,scores=results.scores,times=results.times)\n",
    "    savename = out_dir + '/' + files_to_seg[i][0:(len(files_to_seg[i])-5)] + '_thresh' + str(thresh) + '.csv'\n",
    "    generate_call_labels_audition(calls=calls,csv_name = savename,scores=results.scores,times=results.times)\n",
    "print('done')"
   ]
  },
  {
   "cell_type": "code",
   "execution_count": null,
   "metadata": {},
   "outputs": [
    {
     "name": "stdout",
     "output_type": "stream",
     "text": [
      "['HM_PET_R11_20170903-20170908_file_3_(2017_09_04-05_44_59)_ASWMUX221163_label_label_cnn_20epoch__collar__orig_proportional_aug_2dconv_20190603_1-16249.7895.pckl', 'HM_LT_R09_20170903-20170908_file_2_(2017_09_03-05_44_59)_ASWMUX221110_LABEL_RY_label_cnn_20epoch__collar__orig_proportional_aug_2dconv_20190603_1-16232.586.pckl', 'HM_HTB_R14_file_5_(2017_08_24-06_44_59)_ASWMUX221052_LABEL_RY_label_cnn_20epoch__collar__orig_proportional_aug_2dconv_20190603_1-12647.767.pckl', 'HM_RT_R10_20170903-20170908_file_4_(2017_09_05-05_44_59)_ASWMUX221102_label_label_cnn_20epoch__collar__orig_proportional_aug_2dconv_20190603_1-16237.5015.pckl', 'HM_RT_R12_file_6_(2017_08_25-06_44_59)_ASWMUX221102_label_label_cnn_20epoch__collar__orig_proportional_aug_2dconv_20190603_1-12628.9255.pckl', 'HM_HTB_R14_20170903-20170908_file_2_(2017_09_03-05_44_59)_ASWMUX221052_label_label_cnn_20epoch__collar__orig_proportional_aug_2dconv_20190603_1-16266.92.pckl', 'HM_VCVM001_AUDIO_file_5_(2017_08_06-06_44_59)_ASWMUX221153_label_label_cnn_20epoch__collar__orig_proportional_aug_2dconv_20190603_1-12611.722.pckl', 'HM_HRT_R09_AUDIO_file_6_(2017_08_25-06_44_59)_ASWMUX221110_label_label_cnn_20epoch__collar__orig_proportional_aug_2dconv_20190603_1-12622.372.pckl', 'HM_HRT_R09_AUDIO_file_4_(2017_08_23-06_44_59)_ASWMUX221110_LABEL_RY_label_cnn_20epoch__collar__orig_proportional_aug_2dconv_20190603_1-12624.8295.pckl', 'HM_LT_R07_AUDIO_file_6_(2017_08_25-06_44_59)_ASWMUX221092_label_label_cnn_20epoch__collar__orig_proportional_aug_2dconv_20190603_1-12624.01.pckl', 'HM_LT_R07_AUDIO_file_4_(2017_08_23-06_44_59)_ASWMUX221092_LABEL_RY_label_cnn_20epoch__collar__orig_proportional_aug_2dconv_20190603_1-12624.8295.pckl', 'HM_VHMM002_HRT_AUDIO_R09_file_6_(2017_08_07-06_44_59)_ASWMUX221110_labelASP_label_cnn_20epoch__collar__orig_proportional_aug_2dconv_20190603_1-12626.468.pckl', 'HM_PET_R11_20170903-20170908_file_2_(2017_09_03-05_44_59)_ASWMUX221163_SS_label_cnn_20epoch__collar__orig_proportional_aug_2dconv_20190603_1-16250.6085.pckl', 'HM_HTB_R14_file_4_(2017_08_23-06_44_59)_ASWMUX221052._labelSS_label_cnn_20epoch__collar__orig_proportional_aug_2dconv_20190603_1-12649.4055.pckl', 'HM_HTB_R14_file_6_(2017_08_25-06_44_59)_ASWMUX221052_label_label_cnn_20epoch__collar__orig_proportional_aug_2dconv_20190603_1-12647.767.pckl', 'HM_VCVM001_HMB_AUDIO_R08_ file_2_(2017_08_03-06_44_59)_ASWMUX221153_label_label_cnn_20epoch__collar__orig_proportional_aug_2dconv_20190603_1-12614.18.pckl', 'HM_VHMF001_HTB_AUDIO_R07_file_5_(2017_08_06-06_44_59)_ASWMUX221092_label_label_cnn_20epoch__collar__orig_proportional_aug_2dconv_20190603_1-12624.8295.pckl', 'HM_RT_R12_file_4_(2017_08_23-06_44_59)_ASWMUX221102_labelSS_label_cnn_20epoch__collar__orig_proportional_aug_2dconv_20190603_1-12629.7445.pckl', 'HM_PET_R11_20170903-20170908_file_4_(2017_09_05-05_44_59)_ASWMUX221163_label_label_cnn_20epoch__collar__orig_proportional_aug_2dconv_20190603_1-16248.97.pckl', 'HM_HRT_R09_AUDIO_file_5_(2017_08_24-06_44_59)_ASWMUX221110_SS_label_cnn_20epoch__collar__orig_proportional_aug_2dconv_20190603_1-12623.191.pckl', 'HM_VHMM002_HRT_AUDIO_R09_file_5_(2017_08_06-06_44_59)_ASWMUX221110_label_label_cnn_20epoch__collar__orig_proportional_aug_2dconv_20190603_1-12627.287.pckl', 'HM_LT_R09_20170903-20170908_file_4_(2017_09_05-05_44_59)_ASWMUX221110_label_label_cnn_20epoch__collar__orig_proportional_aug_2dconv_20190603_1-16231.626875.pckl', 'HM_VHMM003_HLT_AUDIO_R12_file_5_(2017_08_06-06_44_59)_ASWMUX221102_label_label_cnn_20epoch__collar__orig_proportional_aug_2dconv_20190603_1-12629.7445.pckl', 'HM_LT_R07_AUDIO_file_5_(2017_08_24-06_44_59)_ASWMUX221092_SS_label_cnn_20epoch__collar__orig_proportional_aug_2dconv_20190603_1-12624.01.pckl', 'HM_HRT_R07_20170903-20170908_file_4_(2017_09_05-05_44_59)_ASWMUX221092_label_label_cnn_20epoch__collar__orig_proportional_aug_2dconv_20190603_1-16230.948.pckl', 'HM_HRT_R07_20170903-20170908_file_2_(2017_09_03-05_44_59)_ASWMUX221092_LABEL_RY_label_cnn_20epoch__collar__orig_proportional_aug_2dconv_20190603_1-16232.586.pckl', 'HM_RT_R12_file_5_(2017_08_24-06_44_59)_ASWMUX221102_LABEL_RY_label_cnn_20epoch__collar__orig_proportional_aug_2dconv_20190603_1-12628.9255.pckl', 'HM_RT_R10_20170903-20170908_file_2_(2017_09_03-05_44_59)_ASWMUX221102_SS_label_cnn_20epoch__collar__orig_proportional_aug_2dconv_20190603_1-16239.14.pckl']\n"
     ]
    }
   ],
   "source": [
    "#Generate labels including classification for audition - NEW VERSION\n",
    "import pickle\n",
    "import os\n",
    "import csv\n",
    "import numpy as np\n",
    "import datetime\n",
    "\n",
    "from meerkat_call_detector_library import *\n",
    "\n",
    "out_dir = '/home/arianasp/meerkat_detector/autolabel_classif'\n",
    "in_dir = '/home/arianasp/meerkat_detector/predictions/20epoch_aug_20190603'\n",
    "\n",
    "pckl_paths = os.listdir(in_dir)\n",
    "print(pckl_paths)\n",
    "\n",
    "for i in range(len(pckl_paths)):\n",
    "    pckl_path = in_dir + '/' + pckl_paths[i]\n",
    "    f = open(pckl_path,'rb')\n",
    "    results = pickle.load(f,encoding='latin1')\n",
    "    outname = os.path.basename(pckl_path)\n",
    "    savename = out_dir + '/' + outname[0:(len(outname)-5)] + '_auto_label_and_classif' '.csv'\n",
    "    generate_call_labels_audition(calls=results.call_times,csv_name = savename,scores=results.scores,times=results.times,classifs=results.pred_call_types)\n",
    "\n"
   ]
  },
  {
   "cell_type": "code",
   "execution_count": null,
   "metadata": {},
   "outputs": [],
   "source": [
    "results."
   ]
  }
 ],
 "metadata": {
  "kernelspec": {
   "display_name": "Python 3",
   "language": "python",
   "name": "python3"
  },
  "language_info": {
   "codemirror_mode": {
    "name": "ipython",
    "version": 3
   },
   "file_extension": ".py",
   "mimetype": "text/x-python",
   "name": "python",
   "nbconvert_exporter": "python",
   "pygments_lexer": "ipython3",
   "version": "3.6.6"
  }
 },
 "nbformat": 4,
 "nbformat_minor": 2
}
