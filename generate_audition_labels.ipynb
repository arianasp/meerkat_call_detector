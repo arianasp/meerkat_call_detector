{
 "cells": [
  {
   "cell_type": "code",
   "execution_count": 1,
   "metadata": {},
   "outputs": [
    {
     "name": "stderr",
     "output_type": "stream",
     "text": [
      "Using TensorFlow backend.\n"
     ]
    },
    {
     "name": "stdout",
     "output_type": "stream",
     "text": [
      "0\n",
      "1\n",
      "2\n",
      "3\n",
      "4\n",
      "5\n",
      "6\n",
      "7\n",
      "8\n",
      "9\n",
      "10\n",
      "11\n",
      "12\n",
      "13\n",
      "14\n",
      "15\n",
      "16\n",
      "17\n",
      "18\n",
      "19\n",
      "20\n",
      "21\n",
      "22\n",
      "23\n",
      "24\n",
      "done\n"
     ]
    }
   ],
   "source": [
    "#Generate labels for audition\n",
    "\n",
    "#Thresh chosen to make sure all cc recalls are > 0.9 (except for the 2 HMB files), also other calls look decent at this level\n",
    "thresh = 0.99\n",
    "boundary_thresh = 0.6\n",
    "pred_dir = '/home/arianasp/meerkat_detector/predictions/megan_test_set_trainall'\n",
    "out_dir = '/home/arianasp/meerkat_detector/autolabel/megan_test_set_trainall_labels'\n",
    "model ='cnn_10epoch__focalmeg__orig_proportional_noaug_2dconv_20190306'\n",
    "\n",
    "import sys\n",
    "import os\n",
    "import re\n",
    "import pickle\n",
    "\n",
    "sys.path.append('/home/arianasp/meerkat_detector/dev')\n",
    "\n",
    "from meerkat_call_detector_library import *\n",
    "\n",
    "files = os.listdir(pred_dir)\n",
    "files_to_seg = []\n",
    "for i in range(len(files)):\n",
    "    file = files[i]\n",
    "    if re.search('.pckl',file) and re.search(model,file):\n",
    "        files_to_seg.append(file)\n",
    "\n",
    "for i in range(len(files_to_seg)):\n",
    "    print(i)\n",
    "    f = open(pred_dir + '/' + files_to_seg[i],'rb')\n",
    "    results = pickle.load(f,encoding='latin1')\n",
    "    calls = segment_calls(boundary_thresh = 0.6,min_thresh = thresh,scores=results.scores,times=results.times)\n",
    "    savename = out_dir + '/' + files_to_seg[i][0:(len(files_to_seg[i])-5)] + '_thresh' + str(thresh) + '.csv'\n",
    "    generate_call_labels_audition(calls=calls,csv_name = savename,scores=results.scores,times=results.times)\n",
    "print('done')"
   ]
  },
  {
   "cell_type": "code",
   "execution_count": 1,
   "metadata": {},
   "outputs": [
    {
     "data": {
      "text/plain": [
       "4"
      ]
     },
     "execution_count": 1,
     "metadata": {},
     "output_type": "execute_result"
    }
   ],
   "source": [
    "2+2"
   ]
  },
  {
   "cell_type": "code",
   "execution_count": null,
   "metadata": {},
   "outputs": [],
   "source": []
  }
 ],
 "metadata": {
  "kernelspec": {
   "display_name": "Python 3",
   "language": "python",
   "name": "python3"
  },
  "language_info": {
   "codemirror_mode": {
    "name": "ipython",
    "version": 3
   },
   "file_extension": ".py",
   "mimetype": "text/x-python",
   "name": "python",
   "nbconvert_exporter": "python",
   "pygments_lexer": "ipython3",
   "version": "3.6.6"
  }
 },
 "nbformat": 4,
 "nbformat_minor": 2
}
